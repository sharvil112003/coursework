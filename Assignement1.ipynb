{
 "cells": [
  {
   "cell_type": "markdown",
   "id": "4fddd86c",
   "metadata": {},
   "source": [
    "# Final Project"
   ]
  },
  {
   "cell_type": "markdown",
   "id": "8d008d46",
   "metadata": {},
   "source": [
    "## Exercise 2 - Title of the Notebook\n",
    "# Data Science Final Project"
   ]
  },
  {
   "cell_type": "markdown",
   "id": "b97053b6",
   "metadata": {},
   "source": [
    "## Exercise 3 - Introduction\n",
    "This notebook is created as part of the final project to demonstrate various markdown and code cell functionalities in Jupyter Notebook."
   ]
  },
  {
   "cell_type": "markdown",
   "id": "74fe1747",
   "metadata": {},
   "source": [
    "## Exercise 4 - Data Science Languages\n",
    "- Python\n",
    "- R\n",
    "- SQL\n",
    "- Julia"
   ]
  },
  {
   "cell_type": "markdown",
   "id": "cc783bdc",
   "metadata": {},
   "source": [
    "## Exercise 5 - Data Science Libraries\n",
    "- Pandas\n",
    "- NumPy\n",
    "- Scikit-learn\n",
    "- TensorFlow\n",
    "- Keras"
   ]
  },
  {
   "cell_type": "markdown",
   "id": "f25319ae",
   "metadata": {},
   "source": [
    "## Exercise 6 - Table of Data Science Tools\n",
    "\n",
    "| Tool          | Purpose                  |\n",
    "|---------------|--------------------------|\n",
    "| Jupyter       | Interactive coding        |\n",
    "| GitHub         | Version control           |\n",
    "| Docker         | Containerization          |\n",
    "| Apache Spark   | Big data processing       |"
   ]
  },
  {
   "cell_type": "markdown",
   "id": "e2b61958",
   "metadata": {},
   "source": [
    "## Exercise 7 - Arithmetic Expression Examples\n",
    "In the following code cell, we will perform some basic arithmetic operations."
   ]
  },
  {
   "cell_type": "code",
   "execution_count": 4,
   "id": "437a1ae3",
   "metadata": {},
   "outputs": [],
   "source": [
    "# Exercise 8 - Multiply and Add Numbers\n",
    "a = 5\n",
    "b = 10\n",
    "product = a * b\n",
    "sum_result = a + b"
   ]
  },
  {
   "cell_type": "code",
   "execution_count": 5,
   "id": "d9928df6",
   "metadata": {},
   "outputs": [
    {
     "data": {
      "text/plain": [
       "(50, 15)"
      ]
     },
     "execution_count": 5,
     "metadata": {},
     "output_type": "execute_result"
    }
   ],
   "source": [
    "product, sum_result"
   ]
  }
 ],
 "metadata": {
  "kernelspec": {
   "display_name": "Python 3 (ipykernel)",
   "language": "python",
   "name": "python3"
  },
  "language_info": {
   "codemirror_mode": {
    "name": "ipython",
    "version": 3
   },
   "file_extension": ".py",
   "mimetype": "text/x-python",
   "name": "python",
   "nbconvert_exporter": "python",
   "pygments_lexer": "ipython3",
   "version": "3.9.13"
  }
 },
 "nbformat": 4,
 "nbformat_minor": 5
}
